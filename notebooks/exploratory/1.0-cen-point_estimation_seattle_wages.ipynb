{
 "cells": [
  {
   "cell_type": "markdown",
   "metadata": {},
   "source": [
    "# Point Estimates\n",
    "\n",
    "> The sample statistic is calculated from the sample data and the population parameter is inferred (or estimated) from this sample statistic. Let me say that again: Statistics are calculated, parameters are estimated. - James Jones [(Source)](https://people.richland.edu/james/lecture/m170/ch08-int.html)\n",
    "\n",
    "## Data\n",
    "\n",
    "A sample of wage and classification information of 12,401 City of Seattle Employees as of October 2019 is provided in the [`data/raw/`](../../data/raw/seattle_wage_data.json) directory. Exclusions may apply for vulnerable populations. \n",
    "\n",
    "_The entire population is available for [download here](https://data.seattle.gov/City-Business/City-of-Seattle-Wage-Data/2khk-5ukd/data)._"
   ]
  },
  {
   "cell_type": "markdown",
   "metadata": {},
   "source": [
    "with open(\"../../data/raw/seattle_wage_data.json\", \"r\") as f:\n",
    "    city_wages = json.load(f)\n",
    "\n",
    "city_wages_df = pd.DataFrame(data=city_wages)\n",
    "city_wages_df.head()"
   ]
  },
  {
   "cell_type": "markdown",
   "metadata": {},
   "source": [
    "## Import Necessary Packages"
   ]
  },
  {
   "cell_type": "code",
   "execution_count": 21,
   "metadata": {},
   "outputs": [],
   "source": [
    "import pandas as pd\n",
    "from matplotlib import pyplot as plt\n",
    "import requests\n",
    "import random"
   ]
  },
  {
   "cell_type": "markdown",
   "metadata": {},
   "source": [
    "## Import Necessary Data"
   ]
  },
  {
   "cell_type": "code",
   "execution_count": 8,
   "metadata": {},
   "outputs": [],
   "source": [
    "total_employees = 12401\n",
    "sample_size = 500"
   ]
  },
  {
   "cell_type": "markdown",
   "metadata": {},
   "source": [
    "## Call the API to Retrieve the City of Seattle Wage Data"
   ]
  },
  {
   "cell_type": "markdown",
   "metadata": {},
   "source": [
    "Randomly select 500 employees of the 12,401. How would you do this?\n",
    "\n",
    "You may find this helpful: https://dev.socrata.com/docs/queries/. "
   ]
  },
  {
   "cell_type": "markdown",
   "metadata": {},
   "source": [
    "### 1. Make a request to the API"
   ]
  },
  {
   "cell_type": "code",
   "execution_count": null,
   "metadata": {},
   "outputs": [],
   "source": []
  },
  {
   "cell_type": "markdown",
   "metadata": {},
   "source": [
    "### 2. Limit request to obtain one single employee"
   ]
  },
  {
   "cell_type": "code",
   "execution_count": null,
   "metadata": {},
   "outputs": [],
   "source": []
  },
  {
   "cell_type": "markdown",
   "metadata": {},
   "source": [
    "### 3. Pick the 50th employee"
   ]
  },
  {
   "cell_type": "code",
   "execution_count": null,
   "metadata": {},
   "outputs": [],
   "source": []
  },
  {
   "cell_type": "markdown",
   "metadata": {},
   "source": [
    "### 4. Pick one single random employee"
   ]
  },
  {
   "cell_type": "code",
   "execution_count": null,
   "metadata": {},
   "outputs": [],
   "source": []
  },
  {
   "cell_type": "markdown",
   "metadata": {},
   "source": [
    "### 5. Pick 500 random employees\n",
    "\n",
    "*Note: store this list as `city_wages`*"
   ]
  },
  {
   "cell_type": "markdown",
   "metadata": {},
   "source": []
  },
  {
   "cell_type": "code",
   "execution_count": 14,
   "metadata": {},
   "outputs": [],
   "source": [
    "random.seed(2019)\n",
    "\n",
    "url = \"https://data.seattle.gov/resource/2khk-5ukd.json\"\n",
    "\n",
    "city_wages = []\n",
    "\n",
    "for _ in range(0, 5):\n",
    "    params = {\"$limit\": 1, \"$offset\": random.randint(a=0, b=total_employees)}\n",
    "    request = requests.get(url=url, params=params)\n",
    "    city_wages.extend(request.json())"
   ]
  },
  {
   "cell_type": "markdown",
   "metadata": {},
   "source": [
    "### 6. Transform `city_wages` into a DataFrame (`city_wages_df`) and calculate the mean `hourly_rate` from your random sample"
   ]
  },
  {
   "cell_type": "code",
   "execution_count": 17,
   "metadata": {},
   "outputs": [
    {
     "data": {
      "text/html": [
       "<div>\n",
       "<style scoped>\n",
       "    .dataframe tbody tr th:only-of-type {\n",
       "        vertical-align: middle;\n",
       "    }\n",
       "\n",
       "    .dataframe tbody tr th {\n",
       "        vertical-align: top;\n",
       "    }\n",
       "\n",
       "    .dataframe thead th {\n",
       "        text-align: right;\n",
       "    }\n",
       "</style>\n",
       "<table border=\"1\" class=\"dataframe\">\n",
       "  <thead>\n",
       "    <tr style=\"text-align: right;\">\n",
       "      <th></th>\n",
       "      <th>department</th>\n",
       "      <th>last_name</th>\n",
       "      <th>first_name</th>\n",
       "      <th>job_title</th>\n",
       "      <th>hourly_rate</th>\n",
       "    </tr>\n",
       "  </thead>\n",
       "  <tbody>\n",
       "    <tr>\n",
       "      <td>0</td>\n",
       "      <td>Parks &amp; Recreation</td>\n",
       "      <td>Tooley</td>\n",
       "      <td>Jason</td>\n",
       "      <td>Res&amp;Eval Asst</td>\n",
       "      <td>31.63</td>\n",
       "    </tr>\n",
       "    <tr>\n",
       "      <td>1</td>\n",
       "      <td>Seattle Public Utilities</td>\n",
       "      <td>Vaokakala</td>\n",
       "      <td>Tevita</td>\n",
       "      <td>Drainage&amp;Wstwtr Coll Wkr CI</td>\n",
       "      <td>31.33</td>\n",
       "    </tr>\n",
       "    <tr>\n",
       "      <td>2</td>\n",
       "      <td>Construction &amp; Inspections</td>\n",
       "      <td>Steele</td>\n",
       "      <td>Samuel</td>\n",
       "      <td>Manager2,Engrng&amp;Plans Rev</td>\n",
       "      <td>53.44</td>\n",
       "    </tr>\n",
       "    <tr>\n",
       "      <td>3</td>\n",
       "      <td>Police Department</td>\n",
       "      <td>Smith</td>\n",
       "      <td>Bretton</td>\n",
       "      <td>Pol Ofcr-Patrl-BWV</td>\n",
       "      <td>60</td>\n",
       "    </tr>\n",
       "    <tr>\n",
       "      <td>4</td>\n",
       "      <td>Parks &amp; Recreation</td>\n",
       "      <td>Brown</td>\n",
       "      <td>Tyson</td>\n",
       "      <td>Seattle Conserv Corps Supv *</td>\n",
       "      <td>29.56</td>\n",
       "    </tr>\n",
       "  </tbody>\n",
       "</table>\n",
       "</div>"
      ],
      "text/plain": [
       "                   department  last_name first_name  \\\n",
       "0          Parks & Recreation     Tooley      Jason   \n",
       "1    Seattle Public Utilities  Vaokakala     Tevita   \n",
       "2  Construction & Inspections     Steele     Samuel   \n",
       "3           Police Department      Smith    Bretton   \n",
       "4          Parks & Recreation      Brown      Tyson   \n",
       "\n",
       "                      job_title hourly_rate  \n",
       "0                 Res&Eval Asst       31.63  \n",
       "1   Drainage&Wstwtr Coll Wkr CI       31.33  \n",
       "2     Manager2,Engrng&Plans Rev       53.44  \n",
       "3            Pol Ofcr-Patrl-BWV          60  \n",
       "4  Seattle Conserv Corps Supv *       29.56  "
      ]
     },
     "execution_count": 17,
     "metadata": {},
     "output_type": "execute_result"
    }
   ],
   "source": [
    "city_wages_df = pd.DataFrame(city_wages)\n",
    "city_wages_df.head()"
   ]
  },
  {
   "cell_type": "code",
   "execution_count": 19,
   "metadata": {},
   "outputs": [
    {
     "data": {
      "text/plain": [
       "41.19199999999999"
      ]
     },
     "execution_count": 19,
     "metadata": {},
     "output_type": "execute_result"
    }
   ],
   "source": [
    "city_wages_df[\"hourly_rate\"].astype(float).mean()"
   ]
  },
  {
   "cell_type": "markdown",
   "metadata": {},
   "source": [
    "### 7. Make a visualization that shows the distribution of `hourly_rate`\n",
    "\n",
    "*Note: please assign a title to your plot and label your axes as well*"
   ]
  },
  {
   "cell_type": "code",
   "execution_count": 24,
   "metadata": {},
   "outputs": [
    {
     "data": {
      "image/png": "[encoded data removed]",
      "text/plain": [
       "<Figure size 432x288 with 1 Axes>"
      ]
     },
     "metadata": {
      "needs_background": "light"
     },
     "output_type": "display_data"
    }
   ],
   "source": [
    "fig, ax = plt.subplots()\n",
    "\n",
    "city_wages_df[\"hourly_rate\"].astype(float).hist(ax=ax)\n",
    "ax.set_xlabel(\"Hourly rate\")\n",
    "ax.set_ylabel(\"Frequency\")\n",
    "ax.set_title(\"Distribution of hourly rate amongst City of Seattle Employees\")\n",
    "\n",
    "fig.tight_layout()"
   ]
  },
  {
   "cell_type": "code",
   "execution_count": null,
   "metadata": {},
   "outputs": [],
   "source": []
  }
 ],
 "metadata": {
  "kernelspec": {
   "display_name": "learn-env",
   "language": "python",
   "name": "learn-env"
  },
  "language_info": {
   "codemirror_mode": {
    "name": "ipython",
    "version": 3
   },
   "file_extension": ".py",
   "mimetype": "text/x-python",
   "name": "python",
   "nbconvert_exporter": "python",
   "pygments_lexer": "ipython3",
   "version": "3.6.9"
  }
 },
 "nbformat": 4,
 "nbformat_minor": 2
}
