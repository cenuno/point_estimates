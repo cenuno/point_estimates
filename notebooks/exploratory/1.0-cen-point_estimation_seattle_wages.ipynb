{
 "cells": [
  {
   "cell_type": "markdown",
   "metadata": {},
   "source": [
    "# Point Estimates\n",
    "\n",
    "> The sample statistic is calculated from the sample data and the population parameter is inferred (or estimated) from this sample statistic. Let me say that again: Statistics are calculated, parameters are estimated. - James Jones [(Source)](https://people.richland.edu/james/lecture/m170/ch08-int.html)\n",
    "\n",
    "## Data\n",
    "\n",
    "Today we will be using an API to download wage and classification information for 500 random employees out of the total 12,401 City of Seattle Employees as of October 2019."
   ]
  },
  {
   "cell_type": "markdown",
   "metadata": {},
   "source": [
    "## Import Necessary Packages"
   ]
  },
  {
   "cell_type": "code",
   "execution_count": null,
   "metadata": {},
   "outputs": [],
   "source": [
    "import pandas as pd\n",
    "from matplotlib import pyplot as plt\n",
    "import requests\n",
    "import random"
   ]
  },
  {
   "cell_type": "markdown",
   "metadata": {},
   "source": [
    "## Import Necessary Data"
   ]
  },
  {
   "cell_type": "code",
   "execution_count": null,
   "metadata": {},
   "outputs": [],
   "source": [
    "total_employees = 12401\n",
    "sample_size = 500"
   ]
  },
  {
   "cell_type": "markdown",
   "metadata": {},
   "source": [
    "## Call the API to Retrieve the City of Seattle Wage Data"
   ]
  },
  {
   "cell_type": "markdown",
   "metadata": {},
   "source": [
    "Randomly select 500 employees of the 12,401. How would you do this?\n",
    "\n",
    "You may find this helpful: https://dev.socrata.com/docs/queries/. "
   ]
  },
  {
   "cell_type": "markdown",
   "metadata": {},
   "source": [
    "### 1. Make a request to the API"
   ]
  },
  {
   "cell_type": "code",
   "execution_count": null,
   "metadata": {},
   "outputs": [],
   "source": []
  },
  {
   "cell_type": "markdown",
   "metadata": {},
   "source": [
    "### 2. Limit request to obtain one single employee"
   ]
  },
  {
   "cell_type": "code",
   "execution_count": null,
   "metadata": {},
   "outputs": [],
   "source": []
  },
  {
   "cell_type": "markdown",
   "metadata": {},
   "source": [
    "### 3. Pick the 50th employee"
   ]
  },
  {
   "cell_type": "code",
   "execution_count": null,
   "metadata": {},
   "outputs": [],
   "source": []
  },
  {
   "cell_type": "markdown",
   "metadata": {},
   "source": [
    "### 4. Pick one single random employee\n",
    "\n",
    "_Note: use [random.sample()](https://docs.python.org/3/library/random.html#random.sample) to create a list of unique random integers. Then index that list to retrieve a random integer. Use that integer with the `$offset` parameter to help you retrieve a random employee_"
   ]
  },
  {
   "cell_type": "code",
   "execution_count": null,
   "metadata": {},
   "outputs": [],
   "source": []
  },
  {
   "cell_type": "markdown",
   "metadata": {},
   "source": [
    "### 5. Pick 500 random employees\n",
    "\n",
    "*Note: store this list as `city_wages`*"
   ]
  },
  {
   "cell_type": "code",
   "execution_count": null,
   "metadata": {},
   "outputs": [],
   "source": [
    "random.seed(2019)\n",
    "\n",
    "url = \"https://data.seattle.gov/resource/2khk-5ukd.json\"\n",
    "\n",
    "random_ints = random.sample(population=range(total_employees), \n",
    "                            k=sample_size)\n",
    "\n",
    "city_wages = []\n",
    "\n",
    "for random_int in random_ints:\n",
    "    params = {\"$limit\": 1,\n",
    "              \"$offset\": random_int}\n",
    "    request = requests.get(url=url, params=params)\n",
    "    city_wages.extend(request.json())"
   ]
  },
  {
   "cell_type": "markdown",
   "metadata": {},
   "source": [
    "### 6. Transform `city_wages` into a DataFrame (`city_wages_df`) and calculate the mean `hourly_rate` from your random sample"
   ]
  },
  {
   "cell_type": "code",
   "execution_count": null,
   "metadata": {},
   "outputs": [],
   "source": [
    "city_wages_df = pd.DataFrame(city_wages)\n",
    "city_wages_df.head()"
   ]
  },
  {
   "cell_type": "code",
   "execution_count": null,
   "metadata": {},
   "outputs": [],
   "source": [
    "city_wages_df[\"hourly_rate\"].astype(float).mean()"
   ]
  },
  {
   "cell_type": "markdown",
   "metadata": {},
   "source": [
    "### 7. Make a visualization that shows the distribution of `hourly_rate`\n",
    "\n",
    "*Note: please assign a title to your plot and label your axes as well*"
   ]
  },
  {
   "cell_type": "code",
   "execution_count": null,
   "metadata": {},
   "outputs": [],
   "source": [
    "fig, ax = plt.subplots()\n",
    "\n",
    "city_wages_df[\"hourly_rate\"].astype(float).hist(ax=ax)\n",
    "ax.set_xlabel(\"Hourly rate\")\n",
    "ax.set_ylabel(\"Frequency\")\n",
    "ax.set_title(\"Distribution of hourly rate amongst City of Seattle Employees\")\n",
    "\n",
    "fig.tight_layout()"
   ]
  },
  {
   "cell_type": "code",
   "execution_count": null,
   "metadata": {},
   "outputs": [],
   "source": []
  }
 ],
 "metadata": {
  "kernelspec": {
   "display_name": "learn-env",
   "language": "python",
   "name": "learn-env"
  },
  "language_info": {
   "codemirror_mode": {
    "name": "ipython",
    "version": 3
   },
   "file_extension": ".py",
   "mimetype": "text/x-python",
   "name": "python",
   "nbconvert_exporter": "python",
   "pygments_lexer": "ipython3",
   "version": "3.6.9"
  }
 },
 "nbformat": 4,
 "nbformat_minor": 2
}
